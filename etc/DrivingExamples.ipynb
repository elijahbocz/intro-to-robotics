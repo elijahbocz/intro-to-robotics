{
 "cells": [
  {
   "cell_type": "code",
   "execution_count": 1,
   "metadata": {},
   "outputs": [
    {
     "name": "stdout",
     "output_type": "stream",
     "text": [
      "Move forward for 1 second\n",
      "Stop for 1 second\n",
      "Drive the motors 50cm then stop\n",
      "Turn right for 1 second\n",
      "Turn left for 1 second\n"
     ]
    }
   ],
   "source": [
    "# used for sleep function\n",
    "import time\n",
    "from easygopigo3 import EasyGoPiGo3\n",
    "\n",
    "# gpg is an instance of the GoPiGo3 class\n",
    "gpg = EasyGoPiGo3()\n",
    "\n",
    "print(\"Move forward for 1 second\")\n",
    "gpg.forward()\n",
    "time.sleep(1)\n",
    "gpg.stop()\n",
    "\n",
    "print(\"Stop for 1 second\")\n",
    "time.sleep(1)\n",
    "\n",
    "print(\"Drive the motors 50cm then stop\")\n",
    "# blocking method = True\n",
    "gpg.drive_cm(50, True)\n",
    "time.sleep(1)\n",
    "\n",
    "print(\"Turn right for 1 second\")\n",
    "gpg.right()\n",
    "time.sleep(1)\n",
    "\n",
    "print(\"Turn left for 1 second\")\n",
    "gpg.left()\n",
    "time.sleep(1)\n",
    "\n",
    "gpg.stop()"
   ]
  },
  {
   "cell_type": "code",
   "execution_count": null,
   "metadata": {},
   "outputs": [],
   "source": [
    "from easygopigo3 import EasyGoPiGo3\n",
    "\n",
    "gpg = EasyGoPiGo3()\n",
    "\n",
    "print(\"Drawing a square\")\n",
    "length = 30\n",
    "\n",
    "for i in range(4):\n",
    "    gpg.drive_cm(length) # drive forward for length cm\n",
    "    gpg.turn_degrees(90) # rotate 90 degress to the right"
   ]
  },
  {
   "cell_type": "code",
   "execution_count": null,
   "metadata": {},
   "outputs": [],
   "source": [
    "from easygopigo3 import EasyGoPiGo3\n",
    "\n",
    "gpg = EasyGoPiGo3()\n",
    "\n",
    "print(\"Drawing half circle\")\n",
    "gpg.orbit(180, 30)     # draw half a circle\n",
    "gpg.turn_degrees(180)  # rotate the gpg around\n",
    "print(\"Returning back to initial position\")\n",
    "gpg.orbit(-180, 30)    # return on the initial path\n",
    "gpg.turn_degrees(180)  # back to initial position"
   ]
  },
  {
   "cell_type": "code",
   "execution_count": null,
   "metadata": {},
   "outputs": [],
   "source": [
    "from easygopigo3 import EasyGoPiGo3\n",
    "\n",
    "gpg = EasyGoPiGo3()\n",
    "\n",
    "print(\"Drawing a figure eight\")\n",
    "radius = 30\n",
    "gpg.orbit(-270, radius)  # rotate left\n",
    "gpg.drive_cm(radius * 2) # move forward\n",
    "gpg.orbit(270, radius)   # rotate right\n",
    "gpg.drive_cm(radius * 2)\n"
   ]
  },
  {
   "cell_type": "code",
   "execution_count": 5,
   "metadata": {},
   "outputs": [
    {
     "name": "stdout",
     "output_type": "stream",
     "text": [
      "Accelerate\n"
     ]
    }
   ],
   "source": [
    "from easygopigo3 import EasyGoPiGo3\n",
    "from time import time, sleep\n",
    "\n",
    "gpg = EasyGoPiGo3()\n",
    "\n",
    "print(\"Accelerate\")\n",
    "\n",
    "# setting speed to the lowest value and calculating the step increase in speed\n",
    "current_speed = 50\n",
    "end_speed = 400\n",
    "step = (end_speed - current_speed) / 20\n",
    "# set_speed measured in DPS (Degrees Per Second)\n",
    "# 0-1000 are preferred DPS for set_speed\n",
    "gpg.set_speed(current_speed)\n",
    "\n",
    "# start moving the robot at an increasing speed\n",
    "gpg.forward()\n",
    "while current_speed <= end_speed:\n",
    "    sleep(0.1)\n",
    "    gpg.set_speed(current_speed)\n",
    "    current_speed += step\n",
    "    \n",
    "gpg.stop()"
   ]
  },
  {
   "cell_type": "code",
   "execution_count": null,
   "metadata": {},
   "outputs": [],
   "source": []
  }
 ],
 "metadata": {
  "kernelspec": {
   "display_name": "Python 3",
   "language": "python",
   "name": "python3"
  },
  "language_info": {
   "codemirror_mode": {
    "name": "ipython",
    "version": 3
   },
   "file_extension": ".py",
   "mimetype": "text/x-python",
   "name": "python",
   "nbconvert_exporter": "python",
   "pygments_lexer": "ipython3",
   "version": "3.7.3"
  }
 },
 "nbformat": 4,
 "nbformat_minor": 4
}
