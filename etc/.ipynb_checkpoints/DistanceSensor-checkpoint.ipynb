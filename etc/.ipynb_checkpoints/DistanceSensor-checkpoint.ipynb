{
 "cells": [
  {
   "cell_type": "code",
   "execution_count": null,
   "metadata": {},
   "outputs": [],
   "source": [
    "# import the GoPiGo3 drivers\n",
    "import time\n",
    "import easygopigo3 as easy\n",
    "\n",
    "# This example shows how to read values from the Distance Sensor\n",
    "# Create an instance of the GoPiGo3 class.\n",
    "# GPG will be the GoPiGo3 object.\n",
    "gpg = easy.EasyGoPiGo3()\n",
    "\n",
    "# Create an instance of the Distance Sensor class.\n",
    "# I2C1 and I2C2 are just labels used for identifyng the port on the GoPiGo3 board.\n",
    "# But technically, I2C1 and I2C2 are the same thing, so we don't have to pass \n",
    "# any port to the constructor.\n",
    "my_distance_sensor = gpg.init_distance_sensor()\n",
    "while True:\n",
    "    # Directly print the values of the sensor.\n",
    "    print(\"Distance Sensor Reading (mm): \" + str(my_distance_sensor.read_mm()))\n"
   ]
  },
  {
   "cell_type": "code",
   "execution_count": 1,
   "metadata": {},
   "outputs": [
    {
     "name": "stdout",
     "output_type": "stream",
     "text": [
      "distance from object: 476 mm\n",
      "distance from object: 484 mm\n",
      "distance from object: 474 mm\n",
      "distance from object: 1855 mm\n",
      "distance from object: 1331 mm\n",
      "distance from object: 352 mm\n",
      "distance from object: 124 mm\n",
      "distance from object: 82 mm\n",
      "distance from object: 37 mm\n",
      "distance from object: 716 mm\n",
      "distance from object: 602 mm\n",
      "distance from object: 650 mm\n",
      "distance from object: 112 mm\n",
      "distance from object: 63 mm\n",
      "distance from object: 70 mm\n",
      "distance from object: 67 mm\n",
      "distance from object: 68 mm\n"
     ]
    },
    {
     "ename": "KeyboardInterrupt",
     "evalue": "",
     "output_type": "error",
     "traceback": [
      "\u001b[0;31m---------------------------------------------------------------------------\u001b[0m",
      "\u001b[0;31mKeyboardInterrupt\u001b[0m                         Traceback (most recent call last)",
      "\u001b[0;32m<ipython-input-1-82fbe91f8a6f>\u001b[0m in \u001b[0;36m<module>\u001b[0;34m\u001b[0m\n\u001b[1;32m     19\u001b[0m     \u001b[0mread_dist\u001b[0m \u001b[0;34m=\u001b[0m \u001b[0mdist_sen\u001b[0m\u001b[0;34m.\u001b[0m\u001b[0mread_range_continuous\u001b[0m\u001b[0;34m(\u001b[0m\u001b[0;34m)\u001b[0m\u001b[0;34m\u001b[0m\u001b[0;34m\u001b[0m\u001b[0m\n\u001b[1;32m     20\u001b[0m     \u001b[0mprint\u001b[0m\u001b[0;34m(\u001b[0m\u001b[0;34m\"distance from object: {} mm\"\u001b[0m\u001b[0;34m.\u001b[0m\u001b[0mformat\u001b[0m\u001b[0;34m(\u001b[0m\u001b[0mread_dist\u001b[0m\u001b[0;34m)\u001b[0m\u001b[0;34m)\u001b[0m\u001b[0;34m\u001b[0m\u001b[0;34m\u001b[0m\u001b[0m\n\u001b[0;32m---> 21\u001b[0;31m     \u001b[0mtime\u001b[0m\u001b[0;34m.\u001b[0m\u001b[0msleep\u001b[0m\u001b[0;34m(\u001b[0m\u001b[0;36m1\u001b[0m\u001b[0;34m)\u001b[0m\u001b[0;34m\u001b[0m\u001b[0;34m\u001b[0m\u001b[0m\n\u001b[0m\u001b[1;32m     22\u001b[0m \u001b[0;34m\u001b[0m\u001b[0m\n",
      "\u001b[0;31mKeyboardInterrupt\u001b[0m: "
     ]
    }
   ],
   "source": [
    "# import the GoPiGo3 drivers\n",
    "import time\n",
    "import easygopigo3 as easy\n",
    "\n",
    "gpg = easy.EasyGoPiGo3()\n",
    "\n",
    "dist_sen = gpg.init_distance_sensor()\n",
    "\n",
    "# Start taking continuous measurements\n",
    "# after calling start_continuous,\n",
    "# read_range_continuous must be called somewhere after.\n",
    "# start_continuous can take in an int between 20ms and 5s\n",
    "# (the higher the value passed in, the more accurate the measurement is).\n",
    "# Advantage of this method is that it allows for faster reads\n",
    "dist_sen.start_continuous()\n",
    "\n",
    "while True:\n",
    "    # read distance in mm\n",
    "    read_dist = dist_sen.read_range_continuous()\n",
    "    print(\"distance from object: {} mm\".format(read_dist))\n",
    "    time.sleep(1)\n",
    "    "
   ]
  },
  {
   "cell_type": "code",
   "execution_count": null,
   "metadata": {},
   "outputs": [],
   "source": []
  }
 ],
 "metadata": {
  "kernelspec": {
   "display_name": "Python 3",
   "language": "python",
   "name": "python3"
  },
  "language_info": {
   "codemirror_mode": {
    "name": "ipython",
    "version": 3
   },
   "file_extension": ".py",
   "mimetype": "text/x-python",
   "name": "python",
   "nbconvert_exporter": "python",
   "pygments_lexer": "ipython3",
   "version": "3.7.3"
  }
 },
 "nbformat": 4,
 "nbformat_minor": 4
}
