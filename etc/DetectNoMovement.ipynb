{
 "cells": [
  {
   "cell_type": "code",
   "execution_count": null,
   "id": "ef175475-167e-4bf9-9761-5a9a3680dab4",
   "metadata": {},
   "outputs": [],
   "source": [
    "# import the GoPiGo3 drivers\n",
    "import time\n",
    "import easygopigo3 as easy\n",
    "\n",
    "gpg = easy.EasyGoPiGo3()\n",
    "\n",
    "# program to see changes in Euler values\n",
    "imu_sens = gpg.init_imu_sensor()\n",
    "\n",
    "last_x = 0\n",
    "last_y = 0\n",
    "\n",
    "gpg.forward()\n",
    "while True:\n",
    "    gpg.forward()\n",
    "    \n",
    "    # x changes when the robot turns (similar to left() and right())\n",
    "    # y changes when the robot is rotated on its side (imagine a barrel roll)\n",
    "    # z changes when when diagonally rotated (?), need to look into it more\n",
    "    # z seems to want to be a 90 degrees\n",
    "    print(imu_sens.read_euler())\n",
    "    euler_readings = imus_sens.read_euler()\n",
    "    curr_x = euler_readings[0]\n",
    "    curr_y = euler_readings[1]\n",
    "    \n",
    "    if curr_x == last_x && curr_y == last_y:\n",
    "        gpg.stop()\n",
    "        gpg.back()\n",
    "        time.sleep(1)\n",
    "        # TODO: implement the distance sensor + servo to detect where to go\n",
    "        gpg.left()\n",
    "    "
   ]
  }
 ],
 "metadata": {
  "kernelspec": {
   "display_name": "Python 3 (ipykernel)",
   "language": "python",
   "name": "python3"
  },
  "language_info": {
   "codemirror_mode": {
    "name": "ipython",
    "version": 3
   },
   "file_extension": ".py",
   "mimetype": "text/x-python",
   "name": "python",
   "nbconvert_exporter": "python",
   "pygments_lexer": "ipython3",
   "version": "3.8.10"
  }
 },
 "nbformat": 4,
 "nbformat_minor": 5
}
