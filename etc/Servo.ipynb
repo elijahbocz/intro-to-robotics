{
 "cells": [
  {
   "cell_type": "code",
   "execution_count": 1,
   "metadata": {},
   "outputs": [],
   "source": [
    "import easygopigo3 as easy\n",
    "from time import sleep\n",
    "\n",
    "# This example shows how to read values from the Distance Sensor\n",
    "# Create an instance of the GoPiGo3 class.\n",
    "# GPG will be the GoPiGo3 object.\n",
    "gpg = easy.EasyGoPiGo3()\n",
    "\n",
    "# and now let's instantiate a Servo object through the gpg3_obj object\n",
    "# this will bind a servo to port \"SERVO1\"\n",
    "servo = gpg.init_servo()\n",
    "\n",
    "# rotate_servo rotates the servo at a specific angle.\n",
    "# Int value passed in is the angle at which the servo has to rotate. \n",
    "# The values can be anywhere from 0 to 180 degrees.\n",
    "servo.rotate_servo(180)\n",
    "sleep(3)\n",
    "servo.rotate_servo(0)\n",
    "sleep(3)\n",
    "# reset_servo sets the servo straight ahead\n",
    "# same as calling rotate_servo(90)\n",
    "servo.reset_servo()"
   ]
  },
  {
   "cell_type": "code",
   "execution_count": null,
   "metadata": {},
   "outputs": [],
   "source": []
  }
 ],
 "metadata": {
  "kernelspec": {
   "display_name": "Python 3",
   "language": "python",
   "name": "python3"
  },
  "language_info": {
   "codemirror_mode": {
    "name": "ipython",
    "version": 3
   },
   "file_extension": ".py",
   "mimetype": "text/x-python",
   "name": "python",
   "nbconvert_exporter": "python",
   "pygments_lexer": "ipython3",
   "version": "3.7.3"
  }
 },
 "nbformat": 4,
 "nbformat_minor": 4
}
