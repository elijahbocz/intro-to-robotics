{
 "cells": [
  {
   "cell_type": "code",
   "execution_count": null,
   "metadata": {},
   "outputs": [],
   "source": [
    "# import the GoPiGo3 drivers\n",
    "import time\n",
    "import easygopigo3 as easy\n",
    "\n",
    "gpg = easy.EasyGoPiGo3()\n",
    "\n",
    "# Initialises a EasyIMUSensor object and then returns it\n",
    "# IMU Connects to I2C port.\n",
    "imu_sens = gpg.init_imu_sensor()\n",
    "\n",
    "# read_euler reads the absolute orientation,\n",
    "# returns tuple of euler angles in degrees,\n",
    "# corresponding to heading, pitch, roll\n",
    "print(\"Euler values:\")\n",
    "print(imu_sens.read_euler())\n",
    "\n",
    "# read_magnetometer reads the magnetometer,\n",
    "# returns the X, Y, Z values in MICRO-Tesla units\n",
    "print(\"\\nMagnetometer values:\")\n",
    "print(imu_sens.read_magnetometer())\n",
    "\n",
    "# read_accelerometer reads the accelerometer,\n",
    "# returns tuple of X, Y, Z values in meters/(second^2)\n",
    "print(\"\\nAccelerometer values:\")\n",
    "print(imu_sens.read_accelerometer())\n",
    "\n",
    "# read_linear_acceleration returns the acceleration\n",
    "# from movement and without the gravitational acceleration in it.\n",
    "# returns tuple of X, Y, Z values in meters/(second^2)\n",
    "print(\"\\nEuler values:\")\n",
    "print(imu_sens.read_linear_acceleration())\n",
    "\n",
    "# read_gravity gives gravitational acceleration \n",
    "# as a tuple of X, Y, Z values in meters/(second^2)\n",
    "print(\"\\nGravity valu\")\n",
    "print(imu_sens.read_gravity())\n",
    "\n",
    "# read_quaternion returns current orientation in \n",
    "# X, Y, Z, W quantarian values\n",
    "print(imu_sens.read_quaternion())\n",
    "\n",
    "# read_temperature returns current temp in Celsius\n",
    "print(imu_sens.read_temperature())"
   ]
  },
  {
   "cell_type": "code",
   "execution_count": null,
   "metadata": {},
   "outputs": [],
   "source": [
    "# import the GoPiGo3 drivers\n",
    "import time\n",
    "import easygopigo3 as easy\n",
    "\n",
    "gpg = easy.EasyGoPiGo3()\n",
    "\n",
    "# program to see changes in Euler values\n",
    "imu_sens = gpg.init_imu_sensor()\n",
    "\n",
    "while True:\n",
    "    # x changes when the robot turns (similar to left() and right())\n",
    "    # y changes when the robot is rotated on its side (imagine a barrel roll)\n",
    "    # z changes when when diagonally rotated (?), need to look into it more\n",
    "    # z seems to want to be a 90 degrees\n",
    "    print(imu_sens.read_euler())\n",
    "    time.sleep(2)"
   ]
  },
  {
   "cell_type": "code",
   "execution_count": null,
   "metadata": {},
   "outputs": [],
   "source": [
    "# import the GoPiGo3 drivers\n",
    "import time\n",
    "import easygopigo3 as easy\n",
    "\n",
    "gpg = easy.EasyGoPiGo3()\n",
    "\n",
    "# program to see changes in Euler values\n",
    "imu_sens = gpg.init_imu_sensor()\n",
    "\n",
    "while True:\n",
    "    # x changes when the robot turns (similar to left() and right())\n",
    "    # y changes when the robot is rotated on its side (imagine a barrel roll)\n",
    "    # z changes when when diagonally rotated (?), need to look into it more\n",
    "    # z seems to want to be a 90 degrees\n",
    "    print(imu_sens.read_accelerometer())\n",
    "    time.sleep(2)"
   ]
  },
  {
   "cell_type": "code",
   "execution_count": null,
   "metadata": {},
   "outputs": [],
   "source": []
  }
 ],
 "metadata": {
  "kernelspec": {
   "display_name": "Python 3",
   "language": "python",
   "name": "python3"
  },
  "language_info": {
   "codemirror_mode": {
    "name": "ipython",
    "version": 3
   },
   "file_extension": ".py",
   "mimetype": "text/x-python",
   "name": "python",
   "nbconvert_exporter": "python",
   "pygments_lexer": "ipython3",
   "version": "3.7.3"
  }
 },
 "nbformat": 4,
 "nbformat_minor": 4
}
